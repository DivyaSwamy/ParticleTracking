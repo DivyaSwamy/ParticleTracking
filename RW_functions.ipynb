{
 "cells": [
  {
   "cell_type": "code",
   "execution_count": 308,
   "metadata": {},
   "outputs": [],
   "source": [
    "import sys\n",
    "import numpy as np\n",
    "import matplotlib.pyplot as plt\n",
    " \n",
    " # Define global variables\n",
    " \n",
    "NumTracks = 200\n",
    "track_length = 500\n",
    "maximum_lag = track_length-1\n",
    "tstp = 0.012\n",
    "\n",
    "def CreateRW(r,track_length):\n",
    "    # Creats a random walk for a given track_length\n",
    "    x = np.zeros(track_length)\n",
    "    y = np.zeros(track_length)\n",
    "    for i in range (1,track_length):\n",
    "        theta = np.random.randint(0,180)\n",
    "        x[i] = x[i-1] + r*np.cos(theta)\n",
    "        y[i] = y[i-1] + r*np.sin(theta)\n",
    "    return x,y\n",
    "\n",
    "def Calculate_SD(x,y,track_length):\n",
    "    # Calculates square displacement per lag\n",
    "    sd = np.zeros([track_length,track_length])\n",
    "    for lag in range(1,track_length):\n",
    "        nsteps = (track_length-1)-lag+1\n",
    "        sp=0\n",
    "        for jk in range(0,nsteps):\n",
    "            val = np.square(x[sp+lag]-x[sp]) + np.square(y[sp+lag]-y[sp])\n",
    "            sd[lag,jk] = val\n",
    "            sp = sp+1\n",
    "    return sd\n",
    "\n",
    "\n",
    "def Calculate_MSD(sd,track_length):\n",
    "   # Calculated mean square displacement per lag\n",
    "    msd = np.zeros(track_length)\n",
    "    for ik in range(0,track_length):\n",
    "        msd[ik] = np.mean(sd[ik,0:track_length-ik])\n",
    "    return msd\n",
    " \n",
    "    \n",
    "def Calculate_Displacement(x,y,maximum_lag):\n",
    "    # Calculated Displacement for a track.\n",
    "    proxy = np.square(x[maximum_lag]-x[0])+np.square(y[maximum_lag]-y[0])\n",
    "    FD = np.sqrt(proxy)\n",
    "    return FD\n",
    "\n",
    "def Calculate_Track_Directionality_Ratio(x,y,maximum_lag):\n",
    "    # Calculate displacement at every lag along the track\n",
    "    # as origin of tracks is (0,0)\n",
    "    d = np.sqrt(np.square(x)+np.square(y))\n",
    "    # Calculate total distance traveled per lag  by summing up \n",
    "    # single lag displacements along the track\n",
    "    D = np.zeros(maximum_lag)\n",
    "    sp=0\n",
    "    for jk in range(1,maximum_lag):\n",
    "        proxy = np.square(x[sp+1]-x[sp])+np.square(y[sp+1]-y[sp])\n",
    "        D[jk]= np.sqrt(proxy)\n",
    "        sp=sp+1\n",
    "    # Now calculate Directionality along the track\n",
    "    # d@lag/D@lag\n",
    "    value1 = np.zeros(maximum_lag)\n",
    "    directionality = np.zeros(maximum_lag)   \n",
    "    for ik in range(1,maximum_lag):\n",
    "        value1[ik]= sum(D[0:ik+1])\n",
    "        directionality[ik]=np.true_divide(d[ik],value1[ik])\n",
    "    return d,D,directionality\n",
    "    \n",
    "            \n",
    "def PlotWalk(x,y):\n",
    "    fig1 = plt.figure()\n",
    "    ax = fig1.add_subplot(1,1,1)\n",
    "    ax.scatter(x,y)\n",
    "    return plt.show()\n",
    "    \n",
    "def Plot_Lags_MeanMSD(mean_msd,lags,maximum_lag):\n",
    "    fig2 = plt.figure()\n",
    "    ax1= fig2.add_subplot(1,1,1)\n",
    "    ax1.scatter(lags[1:maximum_lags],mean_msd[1:maximum_lags])\n",
    "    return plt.show()  \n"
   ]
  },
  {
   "cell_type": "code",
   "execution_count": 309,
   "metadata": {},
   "outputs": [],
   "source": [
    "\n",
    "    \n",
    "all_tracks_msd = np.zeros([NumTracks,track_length]);\n",
    "all_tracks_directionality = np.zeros([NumTracks,maximum_lag])\n",
    "\n",
    "    \n",
    "for jk in range(0,NumTracks):\n",
    "    [x,y] = CreateRW(2,track_length)\n",
    "    sd = Calculate_SD(x,y,track_length)\n",
    "    msd = Calculate_MSD(sd,track_length)\n",
    "    all_tracks_msd[jk,:]=msd\n",
    "    [d,D,directionality]=Calculate_Track_Directionality_Ratio(x,y,maximum_lag)\n",
    "    all_tracks_directionality[jk,:]=directionality    \n"
   ]
  },
  {
   "cell_type": "code",
   "execution_count": 322,
   "metadata": {},
   "outputs": [
    {
     "data": {
      "text/plain": [
       "array([ 0.        ,  1.        ,  0.68614095,  0.56039093,  0.48315316,\n",
       "        0.41458014,  0.38109028,  0.35656822,  0.33299294,  0.31221308,\n",
       "        0.28740859,  0.26828978,  0.25721982,  0.24264214,  0.23615417,\n",
       "        0.22960223,  0.21913246,  0.21459216,  0.20325424,  0.19891432,\n",
       "        0.19548486,  0.18863939,  0.18427937,  0.18216739,  0.17913628,\n",
       "        0.17621897,  0.17335759,  0.16841946,  0.16437591,  0.16265047,\n",
       "        0.15755416,  0.15485514,  0.15393095,  0.15039699,  0.15039391,\n",
       "        0.14858355,  0.14737181,  0.14389626,  0.14241744,  0.14138174,\n",
       "        0.13862603,  0.13677605,  0.13576884,  0.13594147,  0.13289986,\n",
       "        0.13247398,  0.13136081,  0.12946347,  0.12820834,  0.12995019,\n",
       "        0.1288516 ,  0.1270106 ,  0.12631232,  0.12611898,  0.12432458,\n",
       "        0.12397585,  0.12352102,  0.1220584 ,  0.12112317,  0.12028747,\n",
       "        0.11798477,  0.1157434 ,  0.11399066,  0.11377381,  0.11413893,\n",
       "        0.11463715,  0.11375409,  0.11284228,  0.11184767,  0.11099249,\n",
       "        0.10875641,  0.10866963,  0.10726596,  0.10624356,  0.10505059,\n",
       "        0.10472112,  0.10387854,  0.1024966 ,  0.10165922,  0.10183257,\n",
       "        0.10148961,  0.10217438,  0.10168599,  0.10024481,  0.09943047,\n",
       "        0.09854901,  0.09794355,  0.09696945,  0.09649875,  0.09625257,\n",
       "        0.09586167,  0.09444258,  0.09399296,  0.0934752 ,  0.09363386,\n",
       "        0.09363645,  0.09391452,  0.09310469,  0.09247172,  0.09154446,\n",
       "        0.09122107,  0.09035846,  0.09088673,  0.0899056 ,  0.08980888,\n",
       "        0.08974088,  0.08858417,  0.08825035,  0.08810776,  0.08780338,\n",
       "        0.08820733,  0.08785538,  0.08731505,  0.0877431 ,  0.08727489,\n",
       "        0.08681685,  0.08648715,  0.08646711,  0.08548702,  0.08530364,\n",
       "        0.0856437 ,  0.0852595 ,  0.08427125,  0.08415089,  0.083637  ,\n",
       "        0.08332374,  0.08285886,  0.08212753,  0.08158016,  0.0809797 ,\n",
       "        0.08081652,  0.08056495,  0.08055284,  0.0805592 ,  0.08032099,\n",
       "        0.08018121,  0.07989717,  0.07984105,  0.07954964,  0.07912829,\n",
       "        0.07849383,  0.07855322,  0.07770385,  0.07734687,  0.07639761,\n",
       "        0.07575386,  0.07560821,  0.07503739,  0.07490265,  0.07504329,\n",
       "        0.07449352,  0.07456241,  0.07419874,  0.07400191,  0.07387192,\n",
       "        0.07378085,  0.07324454,  0.07235394,  0.0717957 ,  0.07173644,\n",
       "        0.07133273,  0.07121771,  0.07089066,  0.07027443,  0.06999608,\n",
       "        0.06963145,  0.06978065,  0.06975694,  0.06966945,  0.06899718,\n",
       "        0.06878176,  0.06861617,  0.06805838,  0.06806699,  0.06833751,\n",
       "        0.06836829,  0.06834726,  0.06795173,  0.06809095,  0.06772391,\n",
       "        0.06741154,  0.06716069,  0.06691732,  0.06645348,  0.06616557,\n",
       "        0.06598381,  0.06545807,  0.06554529,  0.06561572,  0.06500107,\n",
       "        0.06445491,  0.06511683,  0.06507176,  0.06521402,  0.06484788,\n",
       "        0.06460629,  0.06440782,  0.0646547 ,  0.06385406,  0.06379409,\n",
       "        0.06360089,  0.06395469,  0.06380926,  0.06367728,  0.06297063,\n",
       "        0.06268085,  0.06226693,  0.06190351,  0.06178727,  0.06135832,\n",
       "        0.06092424,  0.06063774,  0.06092186,  0.06026973,  0.06008071,\n",
       "        0.05982857,  0.05944102,  0.05947937,  0.05916626,  0.05881275,\n",
       "        0.05861018,  0.05850601,  0.0584501 ,  0.05810959,  0.05773586,\n",
       "        0.05780228,  0.05787115,  0.05771172,  0.05781961,  0.05765733,\n",
       "        0.05728209,  0.05695714,  0.05675291,  0.05633062,  0.05611919,\n",
       "        0.05590229,  0.05590188,  0.05552849,  0.05584585,  0.0559981 ,\n",
       "        0.05575934,  0.05553265,  0.05549392,  0.0555563 ,  0.05549577,\n",
       "        0.05544215,  0.05531988,  0.05502592,  0.05506354,  0.05511095,\n",
       "        0.05516971,  0.0552747 ,  0.05517765,  0.05492672,  0.05450526,\n",
       "        0.05474591,  0.05465303,  0.05472357,  0.05440763,  0.05432354,\n",
       "        0.05448151,  0.05445284,  0.05443315,  0.05426326,  0.05443613,\n",
       "        0.05448667,  0.05455677,  0.05479192,  0.05461632,  0.05422974,\n",
       "        0.05396238,  0.05392243,  0.05363555,  0.05357369,  0.05343767,\n",
       "        0.0531254 ,  0.05281998,  0.05297782,  0.05262317,  0.05255076,\n",
       "        0.05236669,  0.0524191 ,  0.0523204 ,  0.05212914,  0.05206717,\n",
       "        0.05203941,  0.05196356,  0.05189591,  0.0517937 ,  0.05167423,\n",
       "        0.0516238 ,  0.05157998,  0.05175947,  0.05147206,  0.05141725,\n",
       "        0.05177311,  0.05185743,  0.05182954,  0.05167816,  0.05158317,\n",
       "        0.05161121,  0.05143035,  0.05128842,  0.05128825,  0.05118961,\n",
       "        0.05095522,  0.05100749,  0.05089564,  0.05075205,  0.0507077 ,\n",
       "        0.05096579,  0.05094056,  0.05071358,  0.050507  ,  0.05068309,\n",
       "        0.05041292,  0.05029102,  0.0500868 ,  0.04999748,  0.05004144,\n",
       "        0.04980284,  0.04983367,  0.04968296,  0.04967345,  0.04976589,\n",
       "        0.04969126,  0.0498775 ,  0.04979232,  0.04981239,  0.04970289,\n",
       "        0.04971777,  0.04960341,  0.04938012,  0.04928457,  0.04889085,\n",
       "        0.04874248,  0.04866956,  0.04867223,  0.04875061,  0.04874213,\n",
       "        0.04885349,  0.04859785,  0.04843887,  0.04831825,  0.0485206 ,\n",
       "        0.04855048,  0.0485003 ,  0.04832393,  0.04824574,  0.04811357,\n",
       "        0.04827954,  0.04815193,  0.04798244,  0.04807403,  0.04812975,\n",
       "        0.04796551,  0.047794  ,  0.04760876,  0.04758005,  0.04735999,\n",
       "        0.04713586,  0.0471101 ,  0.04710707,  0.04718241,  0.04734301,\n",
       "        0.04729161,  0.04735715,  0.0473767 ,  0.04737087,  0.04722146,\n",
       "        0.0471893 ,  0.04703449,  0.04672063,  0.04655682,  0.0465965 ,\n",
       "        0.04638314,  0.04639152,  0.04633114,  0.04631084,  0.04643125,\n",
       "        0.04635193,  0.0462988 ,  0.04637986,  0.0463389 ,  0.04611586,\n",
       "        0.04618847,  0.04599453,  0.04566019,  0.04558379,  0.04557984,\n",
       "        0.04544958,  0.04548716,  0.04562627,  0.04562266,  0.04555203,\n",
       "        0.0455578 ,  0.04541032,  0.04548892,  0.04520959,  0.04507108,\n",
       "        0.04486811,  0.0448154 ,  0.04462878,  0.04470813,  0.04440794,\n",
       "        0.04432327,  0.0441408 ,  0.04411634,  0.04414161,  0.0441509 ,\n",
       "        0.04397075,  0.04390616,  0.04375561,  0.04367829,  0.04362983,\n",
       "        0.04351499,  0.0435469 ,  0.04344658,  0.0434243 ,  0.04341873,\n",
       "        0.04350677,  0.04349925,  0.04351397,  0.04356733,  0.04343619,\n",
       "        0.04341415,  0.04335662,  0.04341421,  0.04351331,  0.0434642 ,\n",
       "        0.04367514,  0.04351546,  0.04348038,  0.04345183,  0.04332658,\n",
       "        0.04333102,  0.04328939,  0.04336687,  0.04338007,  0.04330633,\n",
       "        0.0433117 ,  0.04354377,  0.04337041,  0.04342897,  0.04346739,\n",
       "        0.04331391,  0.04324099,  0.04298744,  0.04289367,  0.04284026,\n",
       "        0.0428287 ,  0.04275528,  0.04277752,  0.04282779,  0.04280803,\n",
       "        0.0428885 ,  0.04293303,  0.04279878,  0.04278612,  0.04300276,\n",
       "        0.04299426,  0.04305108,  0.04296926,  0.0431433 ,  0.04311971,\n",
       "        0.04315247,  0.04312881,  0.04296104,  0.04285492,  0.04286567,\n",
       "        0.04270173,  0.04263895,  0.04249586,  0.04255523,  0.04254579,\n",
       "        0.0425521 ,  0.04240673,  0.04247596,  0.04236076,  0.04252025,\n",
       "        0.04237408,  0.04246788,  0.04247039,  0.0425278 ,  0.04251068,\n",
       "        0.0423777 ,  0.04254933,  0.04250994,  0.04252433,  0.04265496,\n",
       "        0.04249339,  0.04235029,  0.04226953,  0.04223743,  0.0421071 ,\n",
       "        0.04207411,  0.04216782,  0.04204573,  0.0421376 ])"
      ]
     },
     "execution_count": 322,
     "metadata": {},
     "output_type": "execute_result"
    }
   ],
   "source": [
    "mean_msd = np.mean(all_tracks_msd,0)\n",
    "mean_direct = np.mean(all_tracks_directionality,0)\n",
    "lags = np.arange(1,track_length)\n",
    "\n",
    "mean_direct"
   ]
  },
  {
   "cell_type": "code",
   "execution_count": 331,
   "metadata": {},
   "outputs": [
    {
     "data": {
      "image/png": "[encoded data removed]",
      "text/plain": [
       "<matplotlib.figure.Figure at 0x11689ec90>"
      ]
     },
     "metadata": {},
     "output_type": "display_data"
    }
   ],
   "source": [
    "fig = plt.figure()\n",
    "ax= fig.add_subplot(1,1,1)\n",
    "ax.scatter(lags*tstp,mean_msd[1:track_length])\n",
    "plt.show()\n"
   ]
  },
  {
   "cell_type": "code",
   "execution_count": 333,
   "metadata": {},
   "outputs": [
    {
     "data": {
      "image/png": "[encoded data removed]",
      "text/plain": [
       "<matplotlib.figure.Figure at 0x1168bfe50>"
      ]
     },
     "metadata": {},
     "output_type": "display_data"
    }
   ],
   "source": [
    "fig = plt.figure()\n",
    "ax= fig.add_subplot(1,1,1)\n",
    "ax.scatter(lags*tstp,mean_direct, c ='r')\n",
    "plt.show()\n"
   ]
  },
  {
   "cell_type": "code",
   "execution_count": null,
   "metadata": {},
   "outputs": [],
   "source": []
  },
  {
   "cell_type": "code",
   "execution_count": 291,
   "metadata": {},
   "outputs": [
    {
     "data": {
      "text/plain": [
       "0.43020481000000005"
      ]
     },
     "execution_count": 291,
     "metadata": {},
     "output_type": "execute_result"
    }
   ],
   "source": [
    "0.6559*0.6559"
   ]
  },
  {
   "cell_type": "code",
   "execution_count": 86,
   "metadata": {},
   "outputs": [
    {
     "data": {
      "text/plain": [
       "(100,)"
      ]
     },
     "execution_count": 86,
     "metadata": {},
     "output_type": "execute_result"
    }
   ],
   "source": [
    "xx.shape"
   ]
  },
  {
   "cell_type": "code",
   "execution_count": 187,
   "metadata": {},
   "outputs": [
    {
     "data": {
      "text/plain": [
       "5.9595049494368872"
      ]
     },
     "execution_count": 187,
     "metadata": {},
     "output_type": "execute_result"
    }
   ],
   "source": [
    "sum(xx[1:4])"
   ]
  },
  {
   "cell_type": "code",
   "execution_count": 97,
   "metadata": {},
   "outputs": [
    {
     "data": {
      "text/plain": [
       "100"
      ]
     },
     "execution_count": 97,
     "metadata": {},
     "output_type": "execute_result"
    }
   ],
   "source": [
    "lags = np.arange(1,track_length)\n",
    "len(xx)"
   ]
  },
  {
   "cell_type": "code",
   "execution_count": 98,
   "metadata": {},
   "outputs": [
    {
     "data": {
      "text/plain": [
       "<matplotlib.collections.PathCollection at 0x117131410>"
      ]
     },
     "execution_count": 98,
     "metadata": {},
     "output_type": "execute_result"
    }
   ],
   "source": [
    "fig2 = plt.figure()\n",
    "ax = fig2.add_subplot(1,1,1)\n",
    "ax.scatter(lags,xx[1:track_length])"
   ]
  },
  {
   "cell_type": "code",
   "execution_count": 99,
   "metadata": {},
   "outputs": [
    {
     "data": {
      "image/png": "[encoded data removed]",
      "text/plain": [
       "<matplotlib.figure.Figure at 0x117156090>"
      ]
     },
     "metadata": {},
     "output_type": "display_data"
    }
   ],
   "source": [
    "plt.show()\n"
   ]
  },
  {
   "cell_type": "code",
   "execution_count": 116,
   "metadata": {},
   "outputs": [],
   "source": [
    "[x1,y1]= CreateRW(20)"
   ]
  },
  {
   "cell_type": "code",
   "execution_count": 117,
   "metadata": {},
   "outputs": [
    {
     "data": {
      "text/plain": [
       "array([ 0.        ,  0.99859007,  1.42276908,  1.59448642,  0.71902696,\n",
       "        0.33532852,  0.71083812,  0.01794229,  0.62347017, -0.25198929,\n",
       "       -1.24432476, -1.46806571, -1.48134246, -2.16136595, -2.1746427 ,\n",
       "       -2.48366543, -2.26856016, -1.75838311, -2.17452995, -3.08566021])"
      ]
     },
     "execution_count": 117,
     "metadata": {},
     "output_type": "execute_result"
    }
   ],
   "source": [
    "x1"
   ]
  },
  {
   "cell_type": "code",
   "execution_count": 118,
   "metadata": {},
   "outputs": [
    {
     "data": {
      "text/plain": [
       "array([ 0.        ,  0.05308359, -0.85249477, -1.83764104, -1.35434947,\n",
       "       -2.27780792, -1.35098941, -0.6299517 ,  0.16587239,  0.64916396,\n",
       "        0.77273708, -0.20191157,  0.79800029,  1.53119061,  2.53110247,\n",
       "        3.48215713,  4.45874799,  5.3188174 ,  6.22811483,  6.64023331])"
      ]
     },
     "execution_count": 118,
     "metadata": {},
     "output_type": "execute_result"
    }
   ],
   "source": [
    "y1"
   ]
  },
  {
   "cell_type": "code",
   "execution_count": 120,
   "metadata": {},
   "outputs": [
    {
     "data": {
      "text/plain": [
       "array([ 1.,  1.,  1.,  1.,  1.,  1.,  1.,  1.,  1.,  1.,  1.,  1.,  1.,\n",
       "        1.,  1.,  1.,  1.,  1.,  1.])"
      ]
     },
     "execution_count": 120,
     "metadata": {},
     "output_type": "execute_result"
    }
   ],
   "source": [
    "np.square(np.diff(x1))+np.square(np.diff(y1))"
   ]
  },
  {
   "cell_type": "code",
   "execution_count": null,
   "metadata": {},
   "outputs": [],
   "source": []
  }
 ],
 "metadata": {
  "kernelspec": {
   "display_name": "Python 2",
   "language": "python",
   "name": "python2"
  },
  "language_info": {
   "codemirror_mode": {
    "name": "ipython",
    "version": 2
   },
   "file_extension": ".py",
   "mimetype": "text/x-python",
   "name": "python",
   "nbconvert_exporter": "python",
   "pygments_lexer": "ipython2",
   "version": "2.7.14"
  }
 },
 "nbformat": 4,
 "nbformat_minor": 2
}
