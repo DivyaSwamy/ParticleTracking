{
 "cells": [
  {
   "cell_type": "code",
   "execution_count": 187,
   "metadata": {},
   "outputs": [],
   "source": [
    "import numpy as np\n",
    "\n",
    "class TRACK(object):\n",
    "    \n",
    "    def __init__(self,x,y,id):\n",
    "        self.x = x\n",
    "        self.y = y\n",
    "        self.id = id\n",
    "        \n",
    "    def Track_Length(self):\n",
    "        self.Track_Length = len(self.x)\n",
    "    \n",
    "    def Calculate_SD(self):\n",
    "        # Calculate square deviatios per lag for the track\n",
    "        index = self.Track_Length\n",
    "        sd = np.zeros([index,index])\n",
    "        for lag in range(1,index):\n",
    "            nsteps = (index-1)-lag+1\n",
    "            sp=0\n",
    "            # CHECK RANGE FOR JK ONCE MORE .\n",
    "            # Keep in mind only simulated tracks are starting at \n",
    "            # (0,0)\n",
    "            for jk in range(0,nsteps):\n",
    "                val = np.square(self.x[sp+lag]-self.x[sp]) + np.square(self.y[sp+lag]-self.y[sp])\n",
    "                sd[lag,jk] = val\n",
    "                sp = sp+1  \n",
    "        # STORE sqaure deviations per lag       \n",
    "        self.sd = sd\n",
    "        # STORE single lag displacements SLD\n",
    "        self.sld = sd[1,:]\n",
    "        \n",
    "        \n",
    "        \n",
    "    def Calculate_MSD(self):\n",
    "   #    Calculate mean sqaure deviations per lag for a track\n",
    "        msd = np.zeros(self.Track_Length)\n",
    "        for ik in range(0,self.Track_Length):\n",
    "            msd[ik] = np.mean(self.sd[ik,0:self.Track_Length-ik])\n",
    "        # STORE Mean Sqaure Displacemen per lag array\n",
    "        self.msd =  msd  \n",
    "        \n",
    "        \n",
    "    def Calculate_directionality(self):\n",
    "        # Calculate displacement 'd' at every lag along the track\n",
    "        # from its starting point\n",
    "        spx = self.x[0]\n",
    "        spy = self.y[0]\n",
    "        maximum_lag = self.Track_Length-1\n",
    "        #\n",
    "        d = np.sqrt(np.square(x-spx)+np.square(y-spy))\n",
    "        # Calculate'D' - total distance travelled upto a time \n",
    "        # point by summing up single lag displacements\n",
    "        D = np.zeros(maximum_lag)\n",
    "        sp=0\n",
    "        for jk in range(1,maximum_lag):\n",
    "            proxy = np.square(self.x[sp+1]-self.x[sp])+np.square(self.y[sp+1]-self.y[sp])\n",
    "            D[jk]= np.sqrt(proxy)\n",
    "            sp=sp+1\n",
    "        # Now calculate Directionality along the track\n",
    "        # d@lag/D@lag\n",
    "        value1 = np.zeros(maximum_lag)\n",
    "        directionality = np.zeros(maximum_lag)   \n",
    "        for ik in range(1,maximum_lag):\n",
    "            value1[ik]= sum(D[0:ik+1])\n",
    "            directionality[ik]=np.true_divide(d[ik],value1[ik])\n",
    "       # STORE Directionality.\n",
    "        self.directionality = directionality\n",
    "               "
   ]
  },
  {
   "cell_type": "code",
   "execution_count": null,
   "metadata": {},
   "outputs": [],
   "source": []
  },
  {
   "cell_type": "code",
   "execution_count": 170,
   "metadata": {},
   "outputs": [
    {
     "data": {
      "text/plain": [
       "array([7, 1, 6, 1, 0, 9, 3, 8, 9, 8])"
      ]
     },
     "execution_count": 170,
     "metadata": {},
     "output_type": "execute_result"
    }
   ],
   "source": [
    "x = np.random.randint(0,10,10)\n",
    "y = np.random.randint(5,15,10)\n",
    "x\n"
   ]
  },
  {
   "cell_type": "code",
   "execution_count": 172,
   "metadata": {},
   "outputs": [
    {
     "data": {
      "text/plain": [
       "array([10, 11,  8,  9, 14,  5, 14, 13, 13, 13])"
      ]
     },
     "execution_count": 172,
     "metadata": {},
     "output_type": "execute_result"
    }
   ],
   "source": [
    "y\n"
   ]
  },
  {
   "cell_type": "code",
   "execution_count": 173,
   "metadata": {},
   "outputs": [],
   "source": [
    "a = TRACK(x,y,'1')"
   ]
  },
  {
   "cell_type": "code",
   "execution_count": 123,
   "metadata": {},
   "outputs": [
    {
     "data": {
      "text/plain": [
       "\u001b[0;31mType:\u001b[0m        TRACK\n",
       "\u001b[0;31mString form:\u001b[0m <__main__.TRACK object at 0x10cc56090>\n",
       "\u001b[0;31mDocstring:\u001b[0m   <no docstring>\n"
      ]
     },
     "metadata": {},
     "output_type": "display_data"
    }
   ],
   "source": [
    "a?\n"
   ]
  },
  {
   "cell_type": "code",
   "execution_count": 174,
   "metadata": {},
   "outputs": [],
   "source": [
    "a.Track_Length()"
   ]
  },
  {
   "cell_type": "code",
   "execution_count": 175,
   "metadata": {},
   "outputs": [],
   "source": [
    "a.Calculate_SD()"
   ]
  },
  {
   "cell_type": "code",
   "execution_count": 176,
   "metadata": {},
   "outputs": [
    {
     "data": {
      "text/plain": [
       "(10, 10)"
      ]
     },
     "execution_count": 176,
     "metadata": {},
     "output_type": "execute_result"
    }
   ],
   "source": [
    "a.sd.shape"
   ]
  },
  {
   "cell_type": "code",
   "execution_count": 177,
   "metadata": {},
   "outputs": [
    {
     "data": {
      "text/plain": [
       "array([[   0.,    0.,    0.,    0.,    0.,    0.,    0.,    0.,    0.,\n",
       "           0.],\n",
       "       [  37.,   34.,   26.,   26.,  162.,  117.,   26.,    1.,    1.,\n",
       "           0.],\n",
       "       [   5.,    4.,   72.,   80.,    9.,   65.,   37.,    0.,    0.,\n",
       "           0.],\n",
       "       [  37.,   10.,   18.,   29.,   65.,   64.,   26.,    0.,    0.,\n",
       "           0.],\n",
       "       [  65.,  100.,   45.,   65.,   82.,   65.,    0.,    0.,    0.,\n",
       "           0.],\n",
       "       [  29.,   13.,   29.,   80.,   65.,    0.,    0.,    0.,    0.,\n",
       "           0.],\n",
       "       [  32.,   53.,   34.,   65.,    0.,    0.,    0.,    0.,    0.,\n",
       "           0.],\n",
       "       [  10.,   68.,   29.,    0.,    0.,    0.,    0.,    0.,    0.,\n",
       "           0.],\n",
       "       [  13.,   53.,    0.,    0.,    0.,    0.,    0.,    0.,    0.,\n",
       "           0.],\n",
       "       [  10.,    0.,    0.,    0.,    0.,    0.,    0.,    0.,    0.,\n",
       "           0.]])"
      ]
     },
     "execution_count": 177,
     "metadata": {},
     "output_type": "execute_result"
    }
   ],
   "source": [
    "a.sd"
   ]
  },
  {
   "cell_type": "code",
   "execution_count": 178,
   "metadata": {},
   "outputs": [],
   "source": [
    "a.Calculate_MSD()"
   ]
  },
  {
   "cell_type": "code",
   "execution_count": 179,
   "metadata": {},
   "outputs": [
    {
     "data": {
      "text/plain": [
       "array([  0.        ,  47.77777778,  34.        ,  35.57142857,\n",
       "        70.33333333,  43.2       ,  46.        ,  35.66666667,\n",
       "        33.        ,  10.        ])"
      ]
     },
     "execution_count": 179,
     "metadata": {},
     "output_type": "execute_result"
    }
   ],
   "source": [
    "a.msd"
   ]
  },
  {
   "cell_type": "code",
   "execution_count": 180,
   "metadata": {},
   "outputs": [
    {
     "data": {
      "text/plain": [
       "array([  4.00000000e+00,   2.09560494e+03,   1.02400000e+03,\n",
       "         1.12704082e+03,   4.66944444e+03,   1.69744000e+03,\n",
       "         1.93600000e+03,   1.13344444e+03,   9.61000000e+02,\n",
       "         6.40000000e+01])"
      ]
     },
     "execution_count": 180,
     "metadata": {},
     "output_type": "execute_result"
    }
   ],
   "source": [
    "np.square(a.msd-2)"
   ]
  },
  {
   "cell_type": "code",
   "execution_count": 181,
   "metadata": {},
   "outputs": [],
   "source": [
    "a.Calculate_directionality()"
   ]
  },
  {
   "cell_type": "code",
   "execution_count": 184,
   "metadata": {},
   "outputs": [
    {
     "data": {
      "text/plain": [
       "{'Track_Length': 10,\n",
       " 'directionality': array([ 0.        ,  1.        ,  0.18768857,  0.35754174,  0.36461413,\n",
       "         0.15456989,  0.12390077,  0.06230432,  0.06966529]),\n",
       " 'id': '1',\n",
       " 'msd': array([  0.        ,  47.77777778,  34.        ,  35.57142857,\n",
       "         70.33333333,  43.2       ,  46.        ,  35.66666667,\n",
       "         33.        ,  10.        ]),\n",
       " 'sd': array([[   0.,    0.,    0.,    0.,    0.,    0.,    0.,    0.,    0.,\n",
       "            0.],\n",
       "        [  37.,   34.,   26.,   26.,  162.,  117.,   26.,    1.,    1.,\n",
       "            0.],\n",
       "        [   5.,    4.,   72.,   80.,    9.,   65.,   37.,    0.,    0.,\n",
       "            0.],\n",
       "        [  37.,   10.,   18.,   29.,   65.,   64.,   26.,    0.,    0.,\n",
       "            0.],\n",
       "        [  65.,  100.,   45.,   65.,   82.,   65.,    0.,    0.,    0.,\n",
       "            0.],\n",
       "        [  29.,   13.,   29.,   80.,   65.,    0.,    0.,    0.,    0.,\n",
       "            0.],\n",
       "        [  32.,   53.,   34.,   65.,    0.,    0.,    0.,    0.,    0.,\n",
       "            0.],\n",
       "        [  10.,   68.,   29.,    0.,    0.,    0.,    0.,    0.,    0.,\n",
       "            0.],\n",
       "        [  13.,   53.,    0.,    0.,    0.,    0.,    0.,    0.,    0.,\n",
       "            0.],\n",
       "        [  10.,    0.,    0.,    0.,    0.,    0.,    0.,    0.,    0.,\n",
       "            0.]]),\n",
       " 'sld': array([ 0.,  0.,  0.,  0.,  0.,  0.,  0.,  0.,  0.,  0.]),\n",
       " 'x': array([7, 1, 6, 1, 0, 9, 3, 8, 9, 8]),\n",
       " 'y': array([10, 11,  8,  9, 14,  5, 14, 13, 13, 13])}"
      ]
     },
     "execution_count": 184,
     "metadata": {},
     "output_type": "execute_result"
    }
   ],
   "source": [
    "a.__dict__\n"
   ]
  },
  {
   "cell_type": "code",
   "execution_count": 186,
   "metadata": {},
   "outputs": [
    {
     "data": {
      "text/plain": [
       "{'Track_Length': 10,\n",
       " 'directionality': array([ 0.        ,  1.        ,  0.18768857,  0.35754174,  0.36461413,\n",
       "         0.15456989,  0.12390077,  0.06230432,  0.06966529]),\n",
       " 'id': '1',\n",
       " 'msd': array([  0.        ,  47.77777778,  34.        ,  35.57142857,\n",
       "         70.33333333,  43.2       ,  46.        ,  35.66666667,\n",
       "         33.        ,  10.        ]),\n",
       " 'sd': array([[   0.,    0.,    0.,    0.,    0.,    0.,    0.,    0.,    0.,\n",
       "            0.],\n",
       "        [  37.,   34.,   26.,   26.,  162.,  117.,   26.,    1.,    1.,\n",
       "            0.],\n",
       "        [   5.,    4.,   72.,   80.,    9.,   65.,   37.,    0.,    0.,\n",
       "            0.],\n",
       "        [  37.,   10.,   18.,   29.,   65.,   64.,   26.,    0.,    0.,\n",
       "            0.],\n",
       "        [  65.,  100.,   45.,   65.,   82.,   65.,    0.,    0.,    0.,\n",
       "            0.],\n",
       "        [  29.,   13.,   29.,   80.,   65.,    0.,    0.,    0.,    0.,\n",
       "            0.],\n",
       "        [  32.,   53.,   34.,   65.,    0.,    0.,    0.,    0.,    0.,\n",
       "            0.],\n",
       "        [  10.,   68.,   29.,    0.,    0.,    0.,    0.,    0.,    0.,\n",
       "            0.],\n",
       "        [  13.,   53.,    0.,    0.,    0.,    0.,    0.,    0.,    0.,\n",
       "            0.],\n",
       "        [  10.,    0.,    0.,    0.,    0.,    0.,    0.,    0.,    0.,\n",
       "            0.]]),\n",
       " 'sld': array([ 0.,  0.,  0.,  0.,  0.,  0.,  0.,  0.,  0.,  0.]),\n",
       " 'x': array([7, 1, 6, 1, 0, 9, 3, 8, 9, 8]),\n",
       " 'y': array([10, 11,  8,  9, 14,  5, 14, 13, 13, 13])}"
      ]
     },
     "execution_count": 186,
     "metadata": {},
     "output_type": "execute_result"
    }
   ],
   "source": [
    "vars(a)"
   ]
  },
  {
   "cell_type": "code",
   "execution_count": null,
   "metadata": {},
   "outputs": [],
   "source": []
  }
 ],
 "metadata": {
  "kernelspec": {
   "display_name": "Python 2",
   "language": "python",
   "name": "python2"
  },
  "language_info": {
   "codemirror_mode": {
    "name": "ipython",
    "version": 2
   },
   "file_extension": ".py",
   "mimetype": "text/x-python",
   "name": "python",
   "nbconvert_exporter": "python",
   "pygments_lexer": "ipython2",
   "version": "2.7.14"
  }
 },
 "nbformat": 4,
 "nbformat_minor": 2
}
